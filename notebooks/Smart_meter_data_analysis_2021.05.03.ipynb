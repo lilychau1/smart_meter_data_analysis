{
 "cells": [
  {
   "cell_type": "code",
   "execution_count": 1,
   "id": "adolescent-element",
   "metadata": {},
   "outputs": [],
   "source": [
    "import os\n",
    "import tarfile\n",
    "import urllib\n",
    "import pandas as pd\n",
    "import numpy as np\n",
    "import sklearn\n",
    "import datetime"
   ]
  },
  {
   "cell_type": "markdown",
   "id": "automatic-dragon",
   "metadata": {},
   "source": [
    "<h1>Load smart meter train set to get label for training</h1>"
   ]
  },
  {
   "cell_type": "code",
   "execution_count": 2,
   "id": "magnetic-tissue",
   "metadata": {},
   "outputs": [],
   "source": [
    "file_path = os.path.dirname(os.path.abspath(\"\"))"
   ]
  },
  {
   "cell_type": "code",
   "execution_count": 3,
   "id": "finite-cathedral",
   "metadata": {},
   "outputs": [],
   "source": [
    "interim_dataset_folder = os.path.abspath(os.path.join(file_path, \"./data/interim\"))\n",
    "smart_meter_train_pickle_path = interim_dataset_folder + \"./train_pickle.pkl\"\n",
    "# Read pickle version of pre-processed smart meter dataset\n",
    "smart_meter_train = pd.read_pickle(smart_meter_train_pickle_path)"
   ]
  },
  {
   "cell_type": "code",
   "execution_count": 4,
   "id": "dried-bacon",
   "metadata": {},
   "outputs": [],
   "source": [
    "smart_meter_label = smart_meter_train[\"Consumption\"]"
   ]
  },
  {
   "cell_type": "markdown",
   "id": "meaningful-bankruptcy",
   "metadata": {},
   "source": [
    "<h1>Load preprocessed smart meter train set (array) for training</h1>"
   ]
  },
  {
   "cell_type": "code",
   "execution_count": 5,
   "id": "floating-ladder",
   "metadata": {},
   "outputs": [],
   "source": [
    "preprocessed_dataset_folder = os.path.abspath(os.path.join(file_path, \"./data/preprocessed\"))\n",
    "preprossed_smart_meter_train_path = preprocessed_dataset_folder + \"./preprocessed_smdb_train_npy.npy\"\n",
    "preprossed_smart_meter_train = np.load(preprossed_smart_meter_train_path)"
   ]
  },
  {
   "cell_type": "markdown",
   "id": "spatial-arena",
   "metadata": {},
   "source": [
    "<h1>Dimension reduction</h1>"
   ]
  },
  {
   "cell_type": "code",
   "execution_count": 7,
   "id": "challenging-dominant",
   "metadata": {},
   "outputs": [],
   "source": [
    "train_set = preprossed_smart_meter_train.copy()"
   ]
  },
  {
   "cell_type": "code",
   "execution_count": 48,
   "id": "rocky-skating",
   "metadata": {},
   "outputs": [
    {
     "name": "stdout",
     "output_type": "stream",
     "text": [
      "[[-2.57578394e-02 -6.55428228e-01  1.25530476e-01 -6.16518885e-02\n",
      "  -4.38249652e-01  5.47196131e-01  1.59935535e-03  7.52423460e-03\n",
      "  -2.41632610e-02  3.82926293e-02 -7.83383706e-02  4.16432613e-04\n",
      "   5.57424788e-02 -1.06764199e-02  3.51974978e-02  8.36525451e-02\n",
      "  -8.79259390e-02]\n",
      " [ 4.91379318e-01 -1.54419043e-01  2.20611549e-01  2.00360838e-01\n",
      "   2.40854549e-01 -2.13462231e-01 -2.54565986e-03  1.39858242e-02\n",
      "   6.39695015e-02  4.59175429e-01 -4.76820170e-01 -1.39711263e-03\n",
      "  -1.12458225e-02  2.38146696e-02  6.33937822e-02  8.53510255e-02\n",
      "  -1.35962364e-01]\n",
      " [ 4.48725059e-01 -2.02952135e-02 -4.47501007e-01 -2.00241340e-01\n",
      "  -4.19618309e-02 -1.56698635e-03 -3.26456194e-04  2.04437710e-03\n",
      "  -5.21833017e-01 -4.14559756e-01 -3.13116395e-01  5.48026247e-04\n",
      "   3.61656156e-02  1.73398372e-02 -4.68665666e-02  8.46785037e-02\n",
      "   7.00877118e-03]\n",
      " [ 4.40352812e-01 -9.37189639e-02 -4.31363965e-01 -2.96938858e-01\n",
      "  -3.09646392e-02  1.40646896e-02  1.10844579e-04 -1.55609949e-02\n",
      "   6.64660764e-01  5.10282609e-02  2.69582210e-01 -2.32065297e-03\n",
      "   1.28889415e-02 -3.08594817e-03 -4.70602424e-02 -1.27319469e-02\n",
      "   3.01201675e-03]\n",
      " [-2.00678246e-01 -4.60153722e-01 -3.39501223e-01  3.77322666e-01\n",
      "  -2.86706728e-01 -6.31299847e-01 -2.23409953e-04  3.65645841e-02\n",
      "   7.36452105e-03 -7.16622427e-03  2.27483764e-02 -3.02341750e-03\n",
      "  -8.91765461e-03  1.48575272e-02 -1.76122496e-02 -3.10715977e-02\n",
      "   3.15117353e-02]\n",
      " [-2.72042626e-01 -2.14318324e-01 -4.67608785e-01  2.73150878e-01\n",
      "   6.42542269e-01  3.53983705e-01 -5.38413334e-03 -3.79673749e-02\n",
      "   1.26924356e-02  3.85637029e-02 -4.43723312e-02  1.36312324e-02\n",
      "  -1.11473444e-01  1.43758282e-01  5.03868411e-02  4.39867042e-02\n",
      "  -3.00951060e-02]\n",
      " [-2.04880608e-01 -4.23769397e-01  2.07581683e-01 -6.71081771e-01\n",
      "   3.92593368e-01 -3.21455460e-01  5.19020216e-05 -2.05928885e-02\n",
      "  -5.67281457e-02 -8.42170116e-02  9.08827856e-03  2.01525196e-04\n",
      "  -8.04327506e-02 -8.50535135e-02  1.83328751e-02 -7.43014306e-04\n",
      "  -2.14418947e-02]\n",
      " [-4.01363059e-01  3.08867611e-01 -3.33462131e-01 -2.94981335e-01\n",
      "  -2.26020715e-01 -8.33812760e-02 -4.53322806e-04  2.99769355e-02\n",
      "   4.16336506e-02  2.34651540e-01 -2.52429135e-01 -1.10316137e-02\n",
      "   1.07193565e-01 -1.98533275e-02  9.22572776e-02  2.16252226e-01\n",
      "  -2.60875882e-01]\n",
      " [ 5.64984190e-06  2.78745943e-04 -1.94436497e-03  2.57753824e-03\n",
      "   3.57801832e-03 -2.92774595e-03  7.07056728e-01 -8.09270545e-04\n",
      "   1.23944038e-03 -2.12761277e-04 -4.34864714e-04  4.07178388e-01\n",
      "   2.20230941e-02 -1.88722164e-02  3.81603554e-03  6.05438216e-04\n",
      "   3.13276131e-03]\n",
      " [ 2.41958745e-04  8.46581303e-04  7.75426708e-04 -1.38375219e-03\n",
      "  -3.13464694e-03 -2.82184551e-03 -7.07077949e-01  1.97510579e-03\n",
      "   3.39993281e-04  4.85821947e-05  1.18373902e-03  4.07091456e-01\n",
      "   2.40919599e-02 -1.79791342e-02  3.17882348e-03 -3.82517211e-03\n",
      "  -4.63757975e-03]\n",
      " [-2.47608587e-04 -1.12532725e-03  1.16893826e-03 -1.19378604e-03\n",
      "  -4.43371378e-04  5.74959146e-03  2.12205758e-05 -1.16583524e-03\n",
      "  -1.57943366e-03  1.64179083e-04 -7.48874309e-04 -8.14269844e-01\n",
      "  -4.61150540e-02  3.68513506e-02 -6.99485901e-03  3.21973390e-03\n",
      "   1.50481844e-03]\n",
      " [-2.68185131e-02  2.02868126e-03  1.12478371e-01 -6.33616564e-02\n",
      "  -3.87408179e-02 -6.12004630e-02  5.48067102e-04 -5.59686105e-02\n",
      "   8.82902380e-02 -1.13772639e-01 -5.46805279e-02  3.27710025e-02\n",
      "   9.11162770e-02  8.19223551e-01 -9.47060365e-02  9.82661985e-02\n",
      "   1.51314340e-02]\n",
      " [ 2.50809491e-02  4.65758641e-02 -8.52916223e-02 -6.30013858e-02\n",
      "  -1.41379371e-01  4.26920761e-02  3.87871662e-05  6.92756741e-03\n",
      "  -8.56123338e-02  1.68197048e-01 -1.27160015e-02  3.70102589e-02\n",
      "  -7.87398526e-01 -1.52290818e-01  1.27411032e-01 -1.22223380e-01\n",
      "   1.01630380e-02]\n",
      " [ 1.28405863e-01 -3.00161573e-02  6.84719883e-02  1.79915882e-01\n",
      "   1.39816727e-01 -6.96303518e-02 -1.54850608e-03  5.61548235e-02\n",
      "  -9.76301008e-02 -2.09441753e-01  4.19492838e-01 -3.39387177e-02\n",
      "   2.66347790e-01 -3.12876528e-01  2.13968571e-01  2.13795820e-01\n",
      "  -2.35868465e-01]\n",
      " [-1.26668299e-01 -1.85883880e-02 -9.56587365e-02 -5.35528395e-02\n",
      "   4.03034620e-02  8.81387387e-02  9.61651812e-04 -7.11378036e-03\n",
      "   9.49521966e-02  1.55017344e-01 -3.52096309e-01 -3.58425438e-02\n",
      "   4.29934459e-01 -3.54056204e-01 -2.46673566e-01 -1.89838639e-01\n",
      "   2.10573993e-01]\n",
      " [-2.46087573e-03 -1.08223953e-03 -5.10769644e-03 -8.35328638e-03\n",
      "   1.59075822e-02  2.91992640e-02  5.72168760e-03  4.06847864e-01\n",
      "   2.73974235e-03  1.16208947e-03  7.89935198e-03  3.32208891e-03\n",
      "   1.70753382e-03  4.62066220e-02  4.11864464e-03  6.63976353e-02\n",
      "  -5.23606785e-01]\n",
      " [-2.64000642e-04 -1.42935819e-03  3.47336773e-03 -1.76251903e-02\n",
      "   1.74072839e-02 -2.50891359e-03 -4.07336738e-03  4.04893917e-01\n",
      "   5.15271547e-03  3.24125641e-03 -1.00025884e-02 -1.15969046e-03\n",
      "  -6.24585850e-03  1.11565693e-02 -2.36920340e-02 -8.77059296e-02\n",
      "   5.40619164e-01]\n",
      " [ 2.72487637e-03  2.51159772e-03  1.63432871e-03  2.59784766e-02\n",
      "  -3.33148660e-02 -2.66903504e-02 -1.64832022e-03 -8.11741780e-01\n",
      "  -7.89245782e-03 -4.40334587e-03  2.10323645e-03 -2.16239845e-03\n",
      "   4.53832468e-03 -5.73631914e-02  1.95733894e-02  2.13082942e-02\n",
      "  -1.70123789e-02]\n",
      " [ 5.82001180e-02 -2.22732741e-02 -7.78610120e-02 -6.55053717e-02\n",
      "  -1.64968118e-03  1.17785592e-02  3.15660417e-04 -1.08951824e-02\n",
      "  -3.00454515e-01  4.52818877e-01  3.37580082e-01  7.77207838e-03\n",
      "   2.81415154e-02  4.24131188e-02 -4.89159216e-01  2.20626041e-01\n",
      "  -2.44380642e-02]\n",
      " [-1.99383267e-02  6.62320934e-03  4.66001525e-02  7.25423118e-02\n",
      "   8.83091593e-03  5.06856752e-03 -6.58763749e-04  1.64415177e-04\n",
      "   1.20710218e-01 -2.64366247e-01 -7.18099922e-02  2.12577308e-03\n",
      "  -4.71819708e-02 -1.15447116e-02 -6.43775408e-02 -2.72570838e-01\n",
      "  -2.61446362e-02]\n",
      " [-2.95781425e-02  9.02676616e-03  2.93090031e-02 -1.25863807e-03\n",
      "   1.83997779e-03 -1.66982861e-02  1.48129283e-03  1.05578868e-04\n",
      "   1.08363813e-01 -9.06972330e-02 -1.91041959e-01 -2.83892939e-03\n",
      "  -3.29495234e-02 -5.93207889e-02 -3.70962396e-02 -7.94284827e-02\n",
      "  -3.09692275e-01]\n",
      " [ 1.97840322e-02 -8.88006204e-03 -1.94223328e-03  8.58040763e-03\n",
      "   3.83985935e-02 -1.49682301e-02 -1.01185606e-04 -3.92597408e-03\n",
      "  -1.22977798e-01 -5.81971973e-03  1.07430451e-01  2.66324669e-04\n",
      "  -4.77295804e-02  7.25108584e-03 -2.68872448e-01 -1.29622220e-01\n",
      "   6.23814920e-02]\n",
      " [-3.15936025e-02  1.40475155e-02  4.89026619e-02  6.14612430e-02\n",
      "  -1.11626326e-02  8.29294181e-03  5.96504503e-04  6.39255251e-03\n",
      "   1.88903884e-01 -2.29091094e-01 -1.42572154e-01  4.51679127e-04\n",
      "  -3.38481888e-02 -2.46518504e-02 -2.14577536e-02 -2.23540764e-01\n",
      "  -1.43340943e-01]\n",
      " [-5.00210375e-02  1.46878384e-02  6.32912199e-02  4.23072674e-02\n",
      "  -7.19195110e-03 -4.37945041e-03 -3.37152896e-03  1.84430500e-02\n",
      "   1.96235940e-01 -1.49700459e-01 -1.57574396e-01  3.91057069e-03\n",
      "  -1.07917003e-01 -1.15232494e-01  1.75747520e-01  7.40443211e-01\n",
      "   3.13554265e-01]\n",
      " [ 5.31469590e-02 -1.32319933e-02 -1.08299792e-01 -1.18127220e-01\n",
      "  -2.90652223e-02  1.09058981e-02  1.73802057e-03 -1.02844401e-02\n",
      "  -1.90781542e-01  2.86855877e-01  1.17987968e-01 -1.16874966e-02\n",
      "   2.41484751e-01  1.61085640e-01  7.05215677e-01 -2.55906949e-01\n",
      "   1.27680162e-01]\n",
      " [ 0.00000000e+00  0.00000000e+00  0.00000000e+00  0.00000000e+00\n",
      "   0.00000000e+00  0.00000000e+00  0.00000000e+00  0.00000000e+00\n",
      "   0.00000000e+00  0.00000000e+00  0.00000000e+00  0.00000000e+00\n",
      "   0.00000000e+00  0.00000000e+00  0.00000000e+00  0.00000000e+00\n",
      "   0.00000000e+00]]\n"
     ]
    }
   ],
   "source": [
    "# Using first 16 components because they explain more than 95%\n",
    "projection_matrix = (eigen_vectors.T[:][:17]).T\n",
    "print(projection_matrix)"
   ]
  },
  {
   "cell_type": "code",
   "execution_count": 8,
   "id": "jewish-minnesota",
   "metadata": {},
   "outputs": [],
   "source": [
    "from sklearn.decomposition import FactorAnalysis"
   ]
  },
  {
   "cell_type": "code",
   "execution_count": 14,
   "id": "recognized-swimming",
   "metadata": {
    "scrolled": false
   },
   "outputs": [],
   "source": [
    "from factor_analyzer import FactorAnalyzer"
   ]
  },
  {
   "cell_type": "code",
   "execution_count": 20,
   "id": "waiting-office",
   "metadata": {},
   "outputs": [],
   "source": [
    "fa = FactorAnalyzer(rotation=None)"
   ]
  },
  {
   "cell_type": "code",
   "execution_count": 21,
   "id": "monthly-adult",
   "metadata": {},
   "outputs": [
    {
     "name": "stderr",
     "output_type": "stream",
     "text": [
      "C:\\Users\\LilyChau\\Anaconda3\\lib\\site-packages\\factor_analyzer\\utils.py:91: RuntimeWarning: invalid value encountered in true_divide\n",
      "  x = (x - x.mean(0)) / x.std(0)\n"
     ]
    },
    {
     "ename": "ValueError",
     "evalue": "array must not contain infs or NaNs",
     "output_type": "error",
     "traceback": [
      "\u001b[1;31m---------------------------------------------------------------------------\u001b[0m",
      "\u001b[1;31mValueError\u001b[0m                                Traceback (most recent call last)",
      "\u001b[1;32m<ipython-input-21-de368c563b71>\u001b[0m in \u001b[0;36m<module>\u001b[1;34m\u001b[0m\n\u001b[1;32m----> 1\u001b[1;33m \u001b[0mfa\u001b[0m\u001b[1;33m.\u001b[0m\u001b[0mfit\u001b[0m\u001b[1;33m(\u001b[0m\u001b[0mtrain_set\u001b[0m\u001b[1;33m)\u001b[0m\u001b[1;33m\u001b[0m\u001b[1;33m\u001b[0m\u001b[0m\n\u001b[0m",
      "\u001b[1;32m~\\Anaconda3\\lib\\site-packages\\factor_analyzer\\factor_analyzer.py\u001b[0m in \u001b[0;36mfit\u001b[1;34m(self, X, y)\u001b[0m\n\u001b[0;32m    613\u001b[0m             \u001b[0mloadings\u001b[0m \u001b[1;33m=\u001b[0m \u001b[0mself\u001b[0m\u001b[1;33m.\u001b[0m\u001b[0m_fit_principal\u001b[0m\u001b[1;33m(\u001b[0m\u001b[0mX\u001b[0m\u001b[1;33m)\u001b[0m\u001b[1;33m\u001b[0m\u001b[1;33m\u001b[0m\u001b[0m\n\u001b[0;32m    614\u001b[0m         \u001b[1;32melse\u001b[0m\u001b[1;33m:\u001b[0m\u001b[1;33m\u001b[0m\u001b[1;33m\u001b[0m\u001b[0m\n\u001b[1;32m--> 615\u001b[1;33m             \u001b[0mloadings\u001b[0m \u001b[1;33m=\u001b[0m \u001b[0mself\u001b[0m\u001b[1;33m.\u001b[0m\u001b[0m_fit_factor_analysis\u001b[0m\u001b[1;33m(\u001b[0m\u001b[0mcorr_mtx\u001b[0m\u001b[1;33m)\u001b[0m\u001b[1;33m\u001b[0m\u001b[1;33m\u001b[0m\u001b[0m\n\u001b[0m\u001b[0;32m    616\u001b[0m \u001b[1;33m\u001b[0m\u001b[0m\n\u001b[0;32m    617\u001b[0m         \u001b[1;31m# only used if we do an oblique rotations;\u001b[0m\u001b[1;33m\u001b[0m\u001b[1;33m\u001b[0m\u001b[1;33m\u001b[0m\u001b[0m\n",
      "\u001b[1;32m~\\Anaconda3\\lib\\site-packages\\factor_analyzer\\factor_analyzer.py\u001b[0m in \u001b[0;36m_fit_factor_analysis\u001b[1;34m(self, corr_mtx)\u001b[0m\n\u001b[0;32m    531\u001b[0m                        \u001b[0mbounds\u001b[0m\u001b[1;33m=\u001b[0m\u001b[0mbounds\u001b[0m\u001b[1;33m,\u001b[0m\u001b[1;33m\u001b[0m\u001b[1;33m\u001b[0m\u001b[0m\n\u001b[0;32m    532\u001b[0m                        \u001b[0moptions\u001b[0m\u001b[1;33m=\u001b[0m\u001b[1;33m{\u001b[0m\u001b[1;34m'maxiter'\u001b[0m\u001b[1;33m:\u001b[0m \u001b[1;36m1000\u001b[0m\u001b[1;33m}\u001b[0m\u001b[1;33m,\u001b[0m\u001b[1;33m\u001b[0m\u001b[1;33m\u001b[0m\u001b[0m\n\u001b[1;32m--> 533\u001b[1;33m                        args=(corr_mtx, self.n_factors))\n\u001b[0m\u001b[0;32m    534\u001b[0m \u001b[1;33m\u001b[0m\u001b[0m\n\u001b[0;32m    535\u001b[0m         \u001b[1;32mif\u001b[0m \u001b[1;32mnot\u001b[0m \u001b[0mres\u001b[0m\u001b[1;33m.\u001b[0m\u001b[0msuccess\u001b[0m\u001b[1;33m:\u001b[0m\u001b[1;33m\u001b[0m\u001b[1;33m\u001b[0m\u001b[0m\n",
      "\u001b[1;32m~\\Anaconda3\\lib\\site-packages\\scipy\\optimize\\_minimize.py\u001b[0m in \u001b[0;36mminimize\u001b[1;34m(fun, x0, args, method, jac, hess, hessp, bounds, constraints, tol, callback, options)\u001b[0m\n\u001b[0;32m    618\u001b[0m     \u001b[1;32melif\u001b[0m \u001b[0mmeth\u001b[0m \u001b[1;33m==\u001b[0m \u001b[1;34m'l-bfgs-b'\u001b[0m\u001b[1;33m:\u001b[0m\u001b[1;33m\u001b[0m\u001b[1;33m\u001b[0m\u001b[0m\n\u001b[0;32m    619\u001b[0m         return _minimize_lbfgsb(fun, x0, args, jac, bounds,\n\u001b[1;32m--> 620\u001b[1;33m                                 callback=callback, **options)\n\u001b[0m\u001b[0;32m    621\u001b[0m     \u001b[1;32melif\u001b[0m \u001b[0mmeth\u001b[0m \u001b[1;33m==\u001b[0m \u001b[1;34m'tnc'\u001b[0m\u001b[1;33m:\u001b[0m\u001b[1;33m\u001b[0m\u001b[1;33m\u001b[0m\u001b[0m\n\u001b[0;32m    622\u001b[0m         return _minimize_tnc(fun, x0, args, jac, bounds, callback=callback,\n",
      "\u001b[1;32m~\\Anaconda3\\lib\\site-packages\\scipy\\optimize\\lbfgsb.py\u001b[0m in \u001b[0;36m_minimize_lbfgsb\u001b[1;34m(fun, x0, args, jac, bounds, disp, maxcor, ftol, gtol, eps, maxfun, maxiter, iprint, callback, maxls, finite_diff_rel_step, **unknown_options)\u001b[0m\n\u001b[0;32m    306\u001b[0m     sf = _prepare_scalar_function(fun, x0, jac=jac, args=args, epsilon=eps,\n\u001b[0;32m    307\u001b[0m                                   \u001b[0mbounds\u001b[0m\u001b[1;33m=\u001b[0m\u001b[0mnew_bounds\u001b[0m\u001b[1;33m,\u001b[0m\u001b[1;33m\u001b[0m\u001b[1;33m\u001b[0m\u001b[0m\n\u001b[1;32m--> 308\u001b[1;33m                                   finite_diff_rel_step=finite_diff_rel_step)\n\u001b[0m\u001b[0;32m    309\u001b[0m \u001b[1;33m\u001b[0m\u001b[0m\n\u001b[0;32m    310\u001b[0m     \u001b[0mfunc_and_grad\u001b[0m \u001b[1;33m=\u001b[0m \u001b[0msf\u001b[0m\u001b[1;33m.\u001b[0m\u001b[0mfun_and_grad\u001b[0m\u001b[1;33m\u001b[0m\u001b[1;33m\u001b[0m\u001b[0m\n",
      "\u001b[1;32m~\\Anaconda3\\lib\\site-packages\\scipy\\optimize\\optimize.py\u001b[0m in \u001b[0;36m_prepare_scalar_function\u001b[1;34m(fun, x0, jac, args, bounds, epsilon, finite_diff_rel_step, hess)\u001b[0m\n\u001b[0;32m    260\u001b[0m     \u001b[1;31m# calculation reduces overall function evaluations.\u001b[0m\u001b[1;33m\u001b[0m\u001b[1;33m\u001b[0m\u001b[1;33m\u001b[0m\u001b[0m\n\u001b[0;32m    261\u001b[0m     sf = ScalarFunction(fun, x0, args, grad, hess,\n\u001b[1;32m--> 262\u001b[1;33m                         finite_diff_rel_step, bounds, epsilon=epsilon)\n\u001b[0m\u001b[0;32m    263\u001b[0m \u001b[1;33m\u001b[0m\u001b[0m\n\u001b[0;32m    264\u001b[0m     \u001b[1;32mreturn\u001b[0m \u001b[0msf\u001b[0m\u001b[1;33m\u001b[0m\u001b[1;33m\u001b[0m\u001b[0m\n",
      "\u001b[1;32m~\\Anaconda3\\lib\\site-packages\\scipy\\optimize\\_differentiable_functions.py\u001b[0m in \u001b[0;36m__init__\u001b[1;34m(self, fun, x0, args, grad, hess, finite_diff_rel_step, finite_diff_bounds, epsilon)\u001b[0m\n\u001b[0;32m    134\u001b[0m \u001b[1;33m\u001b[0m\u001b[0m\n\u001b[0;32m    135\u001b[0m         \u001b[0mself\u001b[0m\u001b[1;33m.\u001b[0m\u001b[0m_update_fun_impl\u001b[0m \u001b[1;33m=\u001b[0m \u001b[0mupdate_fun\u001b[0m\u001b[1;33m\u001b[0m\u001b[1;33m\u001b[0m\u001b[0m\n\u001b[1;32m--> 136\u001b[1;33m         \u001b[0mself\u001b[0m\u001b[1;33m.\u001b[0m\u001b[0m_update_fun\u001b[0m\u001b[1;33m(\u001b[0m\u001b[1;33m)\u001b[0m\u001b[1;33m\u001b[0m\u001b[1;33m\u001b[0m\u001b[0m\n\u001b[0m\u001b[0;32m    137\u001b[0m \u001b[1;33m\u001b[0m\u001b[0m\n\u001b[0;32m    138\u001b[0m         \u001b[1;31m# Gradient evaluation\u001b[0m\u001b[1;33m\u001b[0m\u001b[1;33m\u001b[0m\u001b[1;33m\u001b[0m\u001b[0m\n",
      "\u001b[1;32m~\\Anaconda3\\lib\\site-packages\\scipy\\optimize\\_differentiable_functions.py\u001b[0m in \u001b[0;36m_update_fun\u001b[1;34m(self)\u001b[0m\n\u001b[0;32m    224\u001b[0m     \u001b[1;32mdef\u001b[0m \u001b[0m_update_fun\u001b[0m\u001b[1;33m(\u001b[0m\u001b[0mself\u001b[0m\u001b[1;33m)\u001b[0m\u001b[1;33m:\u001b[0m\u001b[1;33m\u001b[0m\u001b[1;33m\u001b[0m\u001b[0m\n\u001b[0;32m    225\u001b[0m         \u001b[1;32mif\u001b[0m \u001b[1;32mnot\u001b[0m \u001b[0mself\u001b[0m\u001b[1;33m.\u001b[0m\u001b[0mf_updated\u001b[0m\u001b[1;33m:\u001b[0m\u001b[1;33m\u001b[0m\u001b[1;33m\u001b[0m\u001b[0m\n\u001b[1;32m--> 226\u001b[1;33m             \u001b[0mself\u001b[0m\u001b[1;33m.\u001b[0m\u001b[0m_update_fun_impl\u001b[0m\u001b[1;33m(\u001b[0m\u001b[1;33m)\u001b[0m\u001b[1;33m\u001b[0m\u001b[1;33m\u001b[0m\u001b[0m\n\u001b[0m\u001b[0;32m    227\u001b[0m             \u001b[0mself\u001b[0m\u001b[1;33m.\u001b[0m\u001b[0mf_updated\u001b[0m \u001b[1;33m=\u001b[0m \u001b[1;32mTrue\u001b[0m\u001b[1;33m\u001b[0m\u001b[1;33m\u001b[0m\u001b[0m\n\u001b[0;32m    228\u001b[0m \u001b[1;33m\u001b[0m\u001b[0m\n",
      "\u001b[1;32m~\\Anaconda3\\lib\\site-packages\\scipy\\optimize\\_differentiable_functions.py\u001b[0m in \u001b[0;36mupdate_fun\u001b[1;34m()\u001b[0m\n\u001b[0;32m    131\u001b[0m \u001b[1;33m\u001b[0m\u001b[0m\n\u001b[0;32m    132\u001b[0m         \u001b[1;32mdef\u001b[0m \u001b[0mupdate_fun\u001b[0m\u001b[1;33m(\u001b[0m\u001b[1;33m)\u001b[0m\u001b[1;33m:\u001b[0m\u001b[1;33m\u001b[0m\u001b[1;33m\u001b[0m\u001b[0m\n\u001b[1;32m--> 133\u001b[1;33m             \u001b[0mself\u001b[0m\u001b[1;33m.\u001b[0m\u001b[0mf\u001b[0m \u001b[1;33m=\u001b[0m \u001b[0mfun_wrapped\u001b[0m\u001b[1;33m(\u001b[0m\u001b[0mself\u001b[0m\u001b[1;33m.\u001b[0m\u001b[0mx\u001b[0m\u001b[1;33m)\u001b[0m\u001b[1;33m\u001b[0m\u001b[1;33m\u001b[0m\u001b[0m\n\u001b[0m\u001b[0;32m    134\u001b[0m \u001b[1;33m\u001b[0m\u001b[0m\n\u001b[0;32m    135\u001b[0m         \u001b[0mself\u001b[0m\u001b[1;33m.\u001b[0m\u001b[0m_update_fun_impl\u001b[0m \u001b[1;33m=\u001b[0m \u001b[0mupdate_fun\u001b[0m\u001b[1;33m\u001b[0m\u001b[1;33m\u001b[0m\u001b[0m\n",
      "\u001b[1;32m~\\Anaconda3\\lib\\site-packages\\scipy\\optimize\\_differentiable_functions.py\u001b[0m in \u001b[0;36mfun_wrapped\u001b[1;34m(x)\u001b[0m\n\u001b[0;32m    128\u001b[0m         \u001b[1;32mdef\u001b[0m \u001b[0mfun_wrapped\u001b[0m\u001b[1;33m(\u001b[0m\u001b[0mx\u001b[0m\u001b[1;33m)\u001b[0m\u001b[1;33m:\u001b[0m\u001b[1;33m\u001b[0m\u001b[1;33m\u001b[0m\u001b[0m\n\u001b[0;32m    129\u001b[0m             \u001b[0mself\u001b[0m\u001b[1;33m.\u001b[0m\u001b[0mnfev\u001b[0m \u001b[1;33m+=\u001b[0m \u001b[1;36m1\u001b[0m\u001b[1;33m\u001b[0m\u001b[1;33m\u001b[0m\u001b[0m\n\u001b[1;32m--> 130\u001b[1;33m             \u001b[1;32mreturn\u001b[0m \u001b[0mfun\u001b[0m\u001b[1;33m(\u001b[0m\u001b[0mx\u001b[0m\u001b[1;33m,\u001b[0m \u001b[1;33m*\u001b[0m\u001b[0margs\u001b[0m\u001b[1;33m)\u001b[0m\u001b[1;33m\u001b[0m\u001b[1;33m\u001b[0m\u001b[0m\n\u001b[0m\u001b[0;32m    131\u001b[0m \u001b[1;33m\u001b[0m\u001b[0m\n\u001b[0;32m    132\u001b[0m         \u001b[1;32mdef\u001b[0m \u001b[0mupdate_fun\u001b[0m\u001b[1;33m(\u001b[0m\u001b[1;33m)\u001b[0m\u001b[1;33m:\u001b[0m\u001b[1;33m\u001b[0m\u001b[1;33m\u001b[0m\u001b[0m\n",
      "\u001b[1;32m~\\Anaconda3\\lib\\site-packages\\factor_analyzer\\factor_analyzer.py\u001b[0m in \u001b[0;36m_fit_uls_objective\u001b[1;34m(psi, corr_mtx, n_factors)\u001b[0m\n\u001b[0;32m    313\u001b[0m \u001b[1;33m\u001b[0m\u001b[0m\n\u001b[0;32m    314\u001b[0m         \u001b[1;31m# get the eigen values and vectors for n_factors\u001b[0m\u001b[1;33m\u001b[0m\u001b[1;33m\u001b[0m\u001b[1;33m\u001b[0m\u001b[0m\n\u001b[1;32m--> 315\u001b[1;33m         \u001b[0mvalues\u001b[0m\u001b[1;33m,\u001b[0m \u001b[0mvectors\u001b[0m \u001b[1;33m=\u001b[0m \u001b[0msp\u001b[0m\u001b[1;33m.\u001b[0m\u001b[0mlinalg\u001b[0m\u001b[1;33m.\u001b[0m\u001b[0meigh\u001b[0m\u001b[1;33m(\u001b[0m\u001b[0mcorr_mtx\u001b[0m\u001b[1;33m)\u001b[0m\u001b[1;33m\u001b[0m\u001b[1;33m\u001b[0m\u001b[0m\n\u001b[0m\u001b[0;32m    316\u001b[0m         \u001b[0mvalues\u001b[0m \u001b[1;33m=\u001b[0m \u001b[0mvalues\u001b[0m\u001b[1;33m[\u001b[0m\u001b[1;33m:\u001b[0m\u001b[1;33m:\u001b[0m\u001b[1;33m-\u001b[0m\u001b[1;36m1\u001b[0m\u001b[1;33m]\u001b[0m\u001b[1;33m\u001b[0m\u001b[1;33m\u001b[0m\u001b[0m\n\u001b[0;32m    317\u001b[0m \u001b[1;33m\u001b[0m\u001b[0m\n",
      "\u001b[1;32m~\\Anaconda3\\lib\\site-packages\\scipy\\linalg\\decomp.py\u001b[0m in \u001b[0;36meigh\u001b[1;34m(a, b, lower, eigvals_only, overwrite_a, overwrite_b, turbo, eigvals, type, check_finite, subset_by_index, subset_by_value, driver)\u001b[0m\n\u001b[0;32m    443\u001b[0m                          ''.format(driver, '\", \"'.join(drv_str[1:])))\n\u001b[0;32m    444\u001b[0m \u001b[1;33m\u001b[0m\u001b[0m\n\u001b[1;32m--> 445\u001b[1;33m     \u001b[0ma1\u001b[0m \u001b[1;33m=\u001b[0m \u001b[0m_asarray_validated\u001b[0m\u001b[1;33m(\u001b[0m\u001b[0ma\u001b[0m\u001b[1;33m,\u001b[0m \u001b[0mcheck_finite\u001b[0m\u001b[1;33m=\u001b[0m\u001b[0mcheck_finite\u001b[0m\u001b[1;33m)\u001b[0m\u001b[1;33m\u001b[0m\u001b[1;33m\u001b[0m\u001b[0m\n\u001b[0m\u001b[0;32m    446\u001b[0m     \u001b[1;32mif\u001b[0m \u001b[0mlen\u001b[0m\u001b[1;33m(\u001b[0m\u001b[0ma1\u001b[0m\u001b[1;33m.\u001b[0m\u001b[0mshape\u001b[0m\u001b[1;33m)\u001b[0m \u001b[1;33m!=\u001b[0m \u001b[1;36m2\u001b[0m \u001b[1;32mor\u001b[0m \u001b[0ma1\u001b[0m\u001b[1;33m.\u001b[0m\u001b[0mshape\u001b[0m\u001b[1;33m[\u001b[0m\u001b[1;36m0\u001b[0m\u001b[1;33m]\u001b[0m \u001b[1;33m!=\u001b[0m \u001b[0ma1\u001b[0m\u001b[1;33m.\u001b[0m\u001b[0mshape\u001b[0m\u001b[1;33m[\u001b[0m\u001b[1;36m1\u001b[0m\u001b[1;33m]\u001b[0m\u001b[1;33m:\u001b[0m\u001b[1;33m\u001b[0m\u001b[1;33m\u001b[0m\u001b[0m\n\u001b[0;32m    447\u001b[0m         \u001b[1;32mraise\u001b[0m \u001b[0mValueError\u001b[0m\u001b[1;33m(\u001b[0m\u001b[1;34m'expected square \"a\" matrix'\u001b[0m\u001b[1;33m)\u001b[0m\u001b[1;33m\u001b[0m\u001b[1;33m\u001b[0m\u001b[0m\n",
      "\u001b[1;32m~\\Anaconda3\\lib\\site-packages\\scipy\\_lib\\_util.py\u001b[0m in \u001b[0;36m_asarray_validated\u001b[1;34m(a, check_finite, sparse_ok, objects_ok, mask_ok, as_inexact)\u001b[0m\n\u001b[0;32m    260\u001b[0m             \u001b[1;32mraise\u001b[0m \u001b[0mValueError\u001b[0m\u001b[1;33m(\u001b[0m\u001b[1;34m'masked arrays are not supported'\u001b[0m\u001b[1;33m)\u001b[0m\u001b[1;33m\u001b[0m\u001b[1;33m\u001b[0m\u001b[0m\n\u001b[0;32m    261\u001b[0m     \u001b[0mtoarray\u001b[0m \u001b[1;33m=\u001b[0m \u001b[0mnp\u001b[0m\u001b[1;33m.\u001b[0m\u001b[0masarray_chkfinite\u001b[0m \u001b[1;32mif\u001b[0m \u001b[0mcheck_finite\u001b[0m \u001b[1;32melse\u001b[0m \u001b[0mnp\u001b[0m\u001b[1;33m.\u001b[0m\u001b[0masarray\u001b[0m\u001b[1;33m\u001b[0m\u001b[1;33m\u001b[0m\u001b[0m\n\u001b[1;32m--> 262\u001b[1;33m     \u001b[0ma\u001b[0m \u001b[1;33m=\u001b[0m \u001b[0mtoarray\u001b[0m\u001b[1;33m(\u001b[0m\u001b[0ma\u001b[0m\u001b[1;33m)\u001b[0m\u001b[1;33m\u001b[0m\u001b[1;33m\u001b[0m\u001b[0m\n\u001b[0m\u001b[0;32m    263\u001b[0m     \u001b[1;32mif\u001b[0m \u001b[1;32mnot\u001b[0m \u001b[0mobjects_ok\u001b[0m\u001b[1;33m:\u001b[0m\u001b[1;33m\u001b[0m\u001b[1;33m\u001b[0m\u001b[0m\n\u001b[0;32m    264\u001b[0m         \u001b[1;32mif\u001b[0m \u001b[0ma\u001b[0m\u001b[1;33m.\u001b[0m\u001b[0mdtype\u001b[0m \u001b[1;32mis\u001b[0m \u001b[0mnp\u001b[0m\u001b[1;33m.\u001b[0m\u001b[0mdtype\u001b[0m\u001b[1;33m(\u001b[0m\u001b[1;34m'O'\u001b[0m\u001b[1;33m)\u001b[0m\u001b[1;33m:\u001b[0m\u001b[1;33m\u001b[0m\u001b[1;33m\u001b[0m\u001b[0m\n",
      "\u001b[1;32m~\\Anaconda3\\lib\\site-packages\\numpy\\lib\\function_base.py\u001b[0m in \u001b[0;36masarray_chkfinite\u001b[1;34m(a, dtype, order)\u001b[0m\n\u001b[0;32m    484\u001b[0m     \u001b[1;32mif\u001b[0m \u001b[0ma\u001b[0m\u001b[1;33m.\u001b[0m\u001b[0mdtype\u001b[0m\u001b[1;33m.\u001b[0m\u001b[0mchar\u001b[0m \u001b[1;32min\u001b[0m \u001b[0mtypecodes\u001b[0m\u001b[1;33m[\u001b[0m\u001b[1;34m'AllFloat'\u001b[0m\u001b[1;33m]\u001b[0m \u001b[1;32mand\u001b[0m \u001b[1;32mnot\u001b[0m \u001b[0mnp\u001b[0m\u001b[1;33m.\u001b[0m\u001b[0misfinite\u001b[0m\u001b[1;33m(\u001b[0m\u001b[0ma\u001b[0m\u001b[1;33m)\u001b[0m\u001b[1;33m.\u001b[0m\u001b[0mall\u001b[0m\u001b[1;33m(\u001b[0m\u001b[1;33m)\u001b[0m\u001b[1;33m:\u001b[0m\u001b[1;33m\u001b[0m\u001b[1;33m\u001b[0m\u001b[0m\n\u001b[0;32m    485\u001b[0m         raise ValueError(\n\u001b[1;32m--> 486\u001b[1;33m             \"array must not contain infs or NaNs\")\n\u001b[0m\u001b[0;32m    487\u001b[0m     \u001b[1;32mreturn\u001b[0m \u001b[0ma\u001b[0m\u001b[1;33m\u001b[0m\u001b[1;33m\u001b[0m\u001b[0m\n\u001b[0;32m    488\u001b[0m \u001b[1;33m\u001b[0m\u001b[0m\n",
      "\u001b[1;31mValueError\u001b[0m: array must not contain infs or NaNs"
     ]
    }
   ],
   "source": [
    "fa.fit(train_set)"
   ]
  },
  {
   "cell_type": "code",
   "execution_count": 17,
   "id": "awful-satellite",
   "metadata": {},
   "outputs": [
    {
     "ename": "AttributeError",
     "evalue": "type object 'FactorAnalyzer' has no attribute 'calculate_bartlett_sphericity'",
     "output_type": "error",
     "traceback": [
      "\u001b[1;31m---------------------------------------------------------------------------\u001b[0m",
      "\u001b[1;31mAttributeError\u001b[0m                            Traceback (most recent call last)",
      "\u001b[1;32m<ipython-input-17-8d32645d02c8>\u001b[0m in \u001b[0;36m<module>\u001b[1;34m\u001b[0m\n\u001b[1;32m----> 1\u001b[1;33m \u001b[0mFactorAnalyzer\u001b[0m\u001b[1;33m.\u001b[0m\u001b[0mcalculate_bartlett_sphericity\u001b[0m\u001b[1;33m\u001b[0m\u001b[1;33m\u001b[0m\u001b[0m\n\u001b[0m",
      "\u001b[1;31mAttributeError\u001b[0m: type object 'FactorAnalyzer' has no attribute 'calculate_bartlett_sphericity'"
     ]
    }
   ],
   "source": [
    "FactorAnalyzer.calculate_bartlett_sphericity"
   ]
  },
  {
   "cell_type": "code",
   "execution_count": null,
   "id": "current-catalyst",
   "metadata": {},
   "outputs": [],
   "source": [
    "from FactorAnalyzer.FactorAnalyzer import calculate_bartlett_sphericity\n",
    "from FactorAnalyzer.FactorAnalyzer import calculate_kmo"
   ]
  },
  {
   "cell_type": "code",
   "execution_count": null,
   "id": "approved-revelation",
   "metadata": {},
   "outputs": [],
   "source": []
  },
  {
   "cell_type": "code",
   "execution_count": 11,
   "id": "banned-craft",
   "metadata": {},
   "outputs": [],
   "source": [
    "from factor_analyzer import FactorAnalyzer"
   ]
  },
  {
   "cell_type": "code",
   "execution_count": 12,
   "id": "utility-accused",
   "metadata": {},
   "outputs": [
    {
     "ename": "NameError",
     "evalue": "name 'factor_analyzer' is not defined",
     "output_type": "error",
     "traceback": [
      "\u001b[1;31m---------------------------------------------------------------------------\u001b[0m",
      "\u001b[1;31mNameError\u001b[0m                                 Traceback (most recent call last)",
      "\u001b[1;32m<ipython-input-12-64199597cef2>\u001b[0m in \u001b[0;36m<module>\u001b[1;34m\u001b[0m\n\u001b[1;32m----> 1\u001b[1;33m \u001b[0mfactor_analyzer\u001b[0m\u001b[1;33m\u001b[0m\u001b[1;33m\u001b[0m\u001b[0m\n\u001b[0m",
      "\u001b[1;31mNameError\u001b[0m: name 'factor_analyzer' is not defined"
     ]
    }
   ],
   "source": [
    "factor_analyzer"
   ]
  },
  {
   "cell_type": "code",
   "execution_count": 10,
   "id": "champion-lesson",
   "metadata": {},
   "outputs": [
    {
     "ename": "NameError",
     "evalue": "name 'factor_analyzer' is not defined",
     "output_type": "error",
     "traceback": [
      "\u001b[1;31m---------------------------------------------------------------------------\u001b[0m",
      "\u001b[1;31mNameError\u001b[0m                                 Traceback (most recent call last)",
      "\u001b[1;32m<ipython-input-10-0475e289cbcb>\u001b[0m in \u001b[0;36m<module>\u001b[1;34m\u001b[0m\n\u001b[1;32m----> 1\u001b[1;33m \u001b[0mfactor_analyzer\u001b[0m\u001b[1;33m.\u001b[0m\u001b[0mFactorAnalyzer\u001b[0m\u001b[1;33m\u001b[0m\u001b[1;33m\u001b[0m\u001b[0m\n\u001b[0m",
      "\u001b[1;31mNameError\u001b[0m: name 'factor_analyzer' is not defined"
     ]
    }
   ],
   "source": [
    "factor_analyzer.FactorAnalyzer"
   ]
  },
  {
   "cell_type": "code",
   "execution_count": 9,
   "id": "funky-perspective",
   "metadata": {},
   "outputs": [],
   "source": [
    "fa = FactorAnalysis()\n",
    "reduced_train_set= fa.fit_transform(train_set)"
   ]
  },
  {
   "cell_type": "code",
   "execution_count": 28,
   "id": "preceding-member",
   "metadata": {},
   "outputs": [
    {
     "name": "stdout",
     "output_type": "stream",
     "text": [
      "[ 29.62730978  45.39650868  59.7379817   67.28490248  72.43373083\n",
      "  76.58824228  80.329425    83.20279688  83.39065708  83.81863888\n",
      "  84.34305268  86.58828796  88.75651318  90.83189542  92.41006992\n",
      "  93.88194097  95.24234917  96.56149629  97.65859375  98.82617969\n",
      " 100.         100.         100.         100.         100.\n",
      " 100.        ]\n"
     ]
    }
   ],
   "source": [
    "# Identigy components that explain at least 95%\n",
    "\n",
    "cumulative_variance_explained = np.cumsum(variance_explained)\n",
    "print(cumulative_variance_explained)"
   ]
  },
  {
   "cell_type": "code",
   "execution_count": 37,
   "id": "bronze-spain",
   "metadata": {},
   "outputs": [],
   "source": [
    "import seaborn as sns\n",
    "import matplotlib.pyplot as plt"
   ]
  },
  {
   "cell_type": "code",
   "execution_count": 41,
   "id": "conceptual-gazette",
   "metadata": {},
   "outputs": [
    {
     "data": {
      "text/plain": [
       "Text(0.5, 1.0, 'Explained variance vs Number of components')"
      ]
     },
     "execution_count": 41,
     "metadata": {},
     "output_type": "execute_result"
    },
    {
     "data": {
      "image/png": "[encoded data removed]",
      "text/plain": [
       "<Figure size 432x288 with 1 Axes>"
      ]
     },
     "metadata": {
      "needs_background": "light"
     },
     "output_type": "display_data"
    }
   ],
   "source": [
    "# Visualising the eigenvalues and finding the elbow of the graphic\n",
    "sns.lineplot(x = list(range(1,len(cumulative_variance_explained)+1)), y = cumulative_variance_explained)\n",
    "plt.xlabel(\"Number of components\")\n",
    "plt.xticks(list(range(1,len(cumulative_variance_explained)+1)))\n",
    "plt.ylabel(\"Cumulative explained variance\")\n",
    "plt.title(\"Explained variance vs Number of components\")"
   ]
  },
  {
   "cell_type": "code",
   "execution_count": 10,
   "id": "earned-telescope",
   "metadata": {},
   "outputs": [
    {
     "data": {
      "text/plain": [
       "array([[-8.08894901e-01,  6.55116952e-01,  9.79244593e-01, ...,\n",
       "         0.00000000e+00,  0.00000000e+00,  0.00000000e+00],\n",
       "       [-8.09265361e-01,  6.54297988e-01,  9.95352592e-01, ...,\n",
       "         0.00000000e+00,  0.00000000e+00,  0.00000000e+00],\n",
       "       [-8.08894901e-01,  6.55116952e-01,  9.79244593e-01, ...,\n",
       "         0.00000000e+00,  0.00000000e+00,  0.00000000e+00],\n",
       "       ...,\n",
       "       [-1.69127924e-03, -1.37888938e+00,  1.02621969e-01, ...,\n",
       "         0.00000000e+00,  0.00000000e+00,  0.00000000e+00],\n",
       "       [-2.64024907e-01, -1.38760136e+00,  1.71022714e+00, ...,\n",
       "         0.00000000e+00,  0.00000000e+00,  0.00000000e+00],\n",
       "       [ 8.89211544e-02,  1.27384722e+00,  1.01746130e+00, ...,\n",
       "         0.00000000e+00,  0.00000000e+00,  0.00000000e+00]])"
      ]
     },
     "execution_count": 10,
     "metadata": {},
     "output_type": "execute_result"
    }
   ],
   "source": [
    "reduced_train_set"
   ]
  },
  {
   "cell_type": "code",
   "execution_count": 21,
   "id": "lasting-moore",
   "metadata": {},
   "outputs": [
    {
     "ename": "AttributeError",
     "evalue": "type object 'FactorAnalysis' has no attribute 'FactorAnalyzer'",
     "output_type": "error",
     "traceback": [
      "\u001b[1;31m---------------------------------------------------------------------------\u001b[0m",
      "\u001b[1;31mAttributeError\u001b[0m                            Traceback (most recent call last)",
      "\u001b[1;32m<ipython-input-21-dbbd2c2917e5>\u001b[0m in \u001b[0;36m<module>\u001b[1;34m\u001b[0m\n\u001b[1;32m----> 1\u001b[1;33m \u001b[0mFactorAnalysis\u001b[0m\u001b[1;33m.\u001b[0m\u001b[0mFactorAnalyzer\u001b[0m\u001b[1;33m\u001b[0m\u001b[1;33m\u001b[0m\u001b[0m\n\u001b[0m",
      "\u001b[1;31mAttributeError\u001b[0m: type object 'FactorAnalysis' has no attribute 'FactorAnalyzer'"
     ]
    }
   ],
   "source": [
    "FactorAnalysis.FactorAnalyzer"
   ]
  },
  {
   "cell_type": "code",
   "execution_count": 17,
   "id": "prescribed-provision",
   "metadata": {},
   "outputs": [
    {
     "ename": "AttributeError",
     "evalue": "'FactorAnalysis' object has no attribute 'get_eigenvalues'",
     "output_type": "error",
     "traceback": [
      "\u001b[1;31m---------------------------------------------------------------------------\u001b[0m",
      "\u001b[1;31mAttributeError\u001b[0m                            Traceback (most recent call last)",
      "\u001b[1;32m<ipython-input-17-e80b6d039a05>\u001b[0m in \u001b[0;36m<module>\u001b[1;34m\u001b[0m\n\u001b[1;32m----> 1\u001b[1;33m \u001b[0mfa\u001b[0m\u001b[1;33m.\u001b[0m\u001b[0mget_eigenvalues\u001b[0m\u001b[1;33m(\u001b[0m\u001b[1;33m)\u001b[0m\u001b[1;33m\u001b[0m\u001b[1;33m\u001b[0m\u001b[0m\n\u001b[0m",
      "\u001b[1;31mAttributeError\u001b[0m: 'FactorAnalysis' object has no attribute 'get_eigenvalues'"
     ]
    }
   ],
   "source": [
    "fa.get_eigenvalues()"
   ]
  },
  {
   "cell_type": "code",
   "execution_count": null,
   "id": "numerical-cardiff",
   "metadata": {},
   "outputs": [],
   "source": []
  },
  {
   "cell_type": "code",
   "execution_count": null,
   "id": "inner-initial",
   "metadata": {},
   "outputs": [],
   "source": []
  },
  {
   "cell_type": "code",
   "execution_count": null,
   "id": "literary-acrobat",
   "metadata": {},
   "outputs": [],
   "source": []
  },
  {
   "cell_type": "code",
   "execution_count": null,
   "id": "dense-highlight",
   "metadata": {},
   "outputs": [],
   "source": []
  },
  {
   "cell_type": "code",
   "execution_count": null,
   "id": "essential-nancy",
   "metadata": {},
   "outputs": [],
   "source": []
  },
  {
   "cell_type": "code",
   "execution_count": 14,
   "id": "after-championship",
   "metadata": {},
   "outputs": [],
   "source": [
    "from sklearn.decomposition import PCA"
   ]
  },
  {
   "cell_type": "code",
   "execution_count": 56,
   "id": "lovely-sunrise",
   "metadata": {},
   "outputs": [],
   "source": [
    "pca = PCA()\n",
    "reduced_train_set= pca.fit_transform(preprossed_smart_meter_train)"
   ]
  },
  {
   "cell_type": "code",
   "execution_count": 57,
   "id": "addressed-offense",
   "metadata": {},
   "outputs": [
    {
     "data": {
      "text/plain": [
       "array([[ 1.90207218e+00,  6.01886319e-01,  1.10880233e+00, ...,\n",
       "         1.05806096e-15, -1.25903431e-15,  5.86964138e-17],\n",
       "       [ 1.90256174e+00,  6.03858227e-01,  1.10840882e+00, ...,\n",
       "         1.51846005e-16, -4.93548722e-16, -5.20564254e-17],\n",
       "       [ 1.90207218e+00,  6.01886319e-01,  1.10880233e+00, ...,\n",
       "        -9.49048748e-17, -3.12058649e-16,  5.07406193e-17],\n",
       "       ...,\n",
       "       [-2.64258739e-01,  3.78692864e-02, -1.31031467e+00, ...,\n",
       "        -3.12970908e-17, -1.20928848e-17,  2.33842944e-18],\n",
       "       [ 4.12605722e-01,  3.79522772e+00, -2.33354218e+00, ...,\n",
       "         7.93455334e-18, -5.99665591e-17, -6.81044481e-19],\n",
       "       [ 1.52805804e-01,  9.23021317e-01,  7.60433072e-01, ...,\n",
       "         3.03734681e-17, -6.52164668e-17, -2.13840163e-18]])"
      ]
     },
     "execution_count": 57,
     "metadata": {},
     "output_type": "execute_result"
    }
   ],
   "source": [
    "reduced_train_df"
   ]
  },
  {
   "cell_type": "code",
   "execution_count": 58,
   "id": "magnetic-thousand",
   "metadata": {},
   "outputs": [
    {
     "data": {
      "text/plain": [
       "array([2.96273098e-01, 1.57691989e-01, 1.43414730e-01, 7.54692078e-02,\n",
       "       5.14882836e-02, 4.15451144e-02, 3.74118272e-02, 2.87337188e-02,\n",
       "       2.24523528e-02, 2.16822522e-02, 2.07538224e-02, 1.57817450e-02,\n",
       "       1.47187105e-02, 1.36040820e-02, 1.31914712e-02, 1.17382031e-02,\n",
       "       1.16758594e-02, 1.09709746e-02, 5.24413800e-03, 4.27981805e-03,\n",
       "       1.87860196e-03, 4.70230311e-33, 3.00223645e-33, 2.83700233e-33,\n",
       "       1.44032478e-33, 1.44032478e-33])"
      ]
     },
     "execution_count": 58,
     "metadata": {},
     "output_type": "execute_result"
    }
   ],
   "source": [
    "pca.explained_variance_ratio_"
   ]
  },
  {
   "cell_type": "code",
   "execution_count": 59,
   "id": "saving-hearing",
   "metadata": {},
   "outputs": [],
   "source": [
    "cumsum = np.cumsum(pca.explained_variance_ratio_)"
   ]
  },
  {
   "cell_type": "code",
   "execution_count": 63,
   "id": "alpine-fluid",
   "metadata": {},
   "outputs": [],
   "source": [
    "d = np.argmax(cumsum >= 0.95)+1"
   ]
  },
  {
   "cell_type": "code",
   "execution_count": 67,
   "id": "satellite-blond",
   "metadata": {},
   "outputs": [],
   "source": [
    "pca2 = PCA(n_components=d)\n",
    "reduced_train_set2 = pca2.fit_transform(preprossed_smart_meter_train)\n",
    "cumsum2 = np.cumsum(pca2.explained_variance_ratio_)"
   ]
  },
  {
   "cell_type": "code",
   "execution_count": 68,
   "id": "industrial-weapon",
   "metadata": {},
   "outputs": [
    {
     "data": {
      "text/plain": [
       "array([0.2962731 , 0.45396509, 0.59737982, 0.67284902, 0.72433731,\n",
       "       0.76588242, 0.80329425, 0.83202797, 0.85448032, 0.87616257,\n",
       "       0.8969164 , 0.91269814, 0.92741685, 0.94102093, 0.9542124 ])"
      ]
     },
     "execution_count": 68,
     "metadata": {},
     "output_type": "execute_result"
    }
   ],
   "source": [
    "cumsum2"
   ]
  },
  {
   "cell_type": "code",
   "execution_count": 73,
   "id": "balanced-showcase",
   "metadata": {
    "scrolled": true
   },
   "outputs": [
    {
     "data": {
      "text/plain": [
       "Text(0.5, 1.0, 'Explained variance vs Number of components')"
      ]
     },
     "execution_count": 73,
     "metadata": {},
     "output_type": "execute_result"
    },
    {
     "data": {
      "image/png": "[encoded data removed]",
      "text/plain": [
       "<Figure size 432x288 with 1 Axes>"
      ]
     },
     "metadata": {
      "needs_background": "light"
     },
     "output_type": "display_data"
    }
   ],
   "source": [
    "# Visualising the eigenvalues and finding the elbow of the graphic\n",
    "sns.lineplot(x = list(range(1,len(cumsum)+1)), y = cumsum)\n",
    "plt.xlabel(\"Number of components\")\n",
    "plt.xticks(list(range(1,len(cumsum)+1)))\n",
    "plt.ylabel(\"Cumulative explained variance\")\n",
    "plt.title(\"Explained variance vs Number of components\")"
   ]
  },
  {
   "cell_type": "markdown",
   "id": "reserved-spotlight",
   "metadata": {},
   "source": [
    "<h1>Model selection</h1>"
   ]
  },
  {
   "cell_type": "code",
   "execution_count": 6,
   "id": "planned-grammar",
   "metadata": {},
   "outputs": [],
   "source": [
    "from sklearn.ensemble import RandomForestRegressor\n",
    "from sklearn.metrics import mean_squared_error"
   ]
  },
  {
   "cell_type": "code",
   "execution_count": 7,
   "id": "urban-publisher",
   "metadata": {},
   "outputs": [],
   "source": [
    "forest_reg = RandomForestRegressor()"
   ]
  },
  {
   "cell_type": "code",
   "execution_count": 79,
   "id": "mathematical-lounge",
   "metadata": {
    "scrolled": true
   },
   "outputs": [
    {
     "data": {
      "text/plain": [
       "RandomForestRegressor()"
      ]
     },
     "execution_count": 79,
     "metadata": {},
     "output_type": "execute_result"
    }
   ],
   "source": [
    "forest_reg.fit(preprossed_smart_meter_train,smart_meter_label)"
   ]
  },
  {
   "cell_type": "code",
   "execution_count": 80,
   "id": "engaged-granny",
   "metadata": {},
   "outputs": [],
   "source": [
    "smart_meter_predictions = forest_reg.predict(preprossed_smart_meter_train)"
   ]
  },
  {
   "cell_type": "code",
   "execution_count": 81,
   "id": "weird-leonard",
   "metadata": {},
   "outputs": [
    {
     "data": {
      "text/plain": [
       "0.21182546519974907"
      ]
     },
     "execution_count": 81,
     "metadata": {},
     "output_type": "execute_result"
    }
   ],
   "source": [
    "forest_mse = mean_squared_error(smart_meter_label, smart_meter_predictions)\n",
    "forest_rmse = np.sqrt(forest_mse)\n",
    "forest_rmse"
   ]
  },
  {
   "cell_type": "code",
   "execution_count": 82,
   "id": "convinced-glossary",
   "metadata": {},
   "outputs": [],
   "source": [
    "# get importance\n",
    "importance = forest_reg.feature_importances_"
   ]
  },
  {
   "cell_type": "code",
   "execution_count": 83,
   "id": "efficient-fraud",
   "metadata": {
    "scrolled": true
   },
   "outputs": [
    {
     "name": "stdout",
     "output_type": "stream",
     "text": [
      "Feature: 0, Score: 0.10817\n",
      "Feature: 1, Score: 0.11578\n",
      "Feature: 2, Score: 0.05266\n",
      "Feature: 3, Score: 0.05388\n",
      "Feature: 4, Score: 0.02714\n",
      "Feature: 5, Score: 0.04164\n",
      "Feature: 6, Score: 0.11744\n",
      "Feature: 7, Score: 0.10308\n",
      "Feature: 8, Score: 0.10858\n",
      "Feature: 9, Score: 0.10788\n",
      "Feature: 10, Score: 0.08159\n",
      "Feature: 11, Score: 0.00508\n",
      "Feature: 12, Score: 0.00511\n",
      "Feature: 13, Score: 0.00396\n",
      "Feature: 14, Score: 0.00236\n",
      "Feature: 15, Score: 0.00729\n",
      "Feature: 16, Score: 0.00631\n",
      "Feature: 17, Score: 0.00714\n",
      "Feature: 18, Score: 0.00498\n",
      "Feature: 19, Score: 0.00648\n",
      "Feature: 20, Score: 0.00742\n",
      "Feature: 21, Score: 0.00654\n",
      "Feature: 22, Score: 0.00627\n",
      "Feature: 23, Score: 0.00708\n",
      "Feature: 24, Score: 0.00617\n",
      "Feature: 25, Score: 0.00000\n"
     ]
    }
   ],
   "source": [
    "# summarize feature importance\n",
    "for i,v in enumerate(importance):\n",
    "    print('Feature: %0d, Score: %.5f' % (i,v))"
   ]
  },
  {
   "cell_type": "code",
   "execution_count": 84,
   "id": "cathedral-luther",
   "metadata": {},
   "outputs": [],
   "source": [
    "forest_reg2 = RandomForestRegressor()"
   ]
  },
  {
   "cell_type": "code",
   "execution_count": null,
   "id": "insured-bulgarian",
   "metadata": {},
   "outputs": [],
   "source": [
    "forest_reg.fit(reduced_train_set2,smart_meter_label)"
   ]
  },
  {
   "cell_type": "code",
   "execution_count": null,
   "id": "operational-cliff",
   "metadata": {},
   "outputs": [],
   "source": [
    "smart_meter_predictions = forest_reg.predict(reduced_train_set2)"
   ]
  },
  {
   "cell_type": "code",
   "execution_count": null,
   "id": "vocational-fantasy",
   "metadata": {},
   "outputs": [],
   "source": [
    "# get importance\n",
    "importance2 = forest_reg.feature_importances_"
   ]
  },
  {
   "cell_type": "code",
   "execution_count": null,
   "id": "rapid-robertson",
   "metadata": {},
   "outputs": [],
   "source": [
    "# summarize feature importance\n",
    "for i,v in enumerate(importance2):\n",
    "    print('Feature: %0d, Score: %.5f' % (i,v))"
   ]
  },
  {
   "cell_type": "code",
   "execution_count": null,
   "id": "occupied-labor",
   "metadata": {},
   "outputs": [],
   "source": []
  },
  {
   "cell_type": "code",
   "execution_count": null,
   "id": "honey-cartridge",
   "metadata": {},
   "outputs": [],
   "source": []
  },
  {
   "cell_type": "code",
   "execution_count": null,
   "id": "grave-vehicle",
   "metadata": {},
   "outputs": [],
   "source": []
  },
  {
   "cell_type": "code",
   "execution_count": null,
   "id": "documented-pioneer",
   "metadata": {},
   "outputs": [],
   "source": []
  },
  {
   "cell_type": "code",
   "execution_count": null,
   "id": "ahead-restoration",
   "metadata": {},
   "outputs": [],
   "source": []
  }
 ],
 "metadata": {
  "kernelspec": {
   "display_name": "Python 3",
   "language": "python",
   "name": "python3"
  },
  "language_info": {
   "codemirror_mode": {
    "name": "ipython",
    "version": 3
   },
   "file_extension": ".py",
   "mimetype": "text/x-python",
   "name": "python",
   "nbconvert_exporter": "python",
   "pygments_lexer": "ipython3",
   "version": "3.7.10"
  }
 },
 "nbformat": 4,
 "nbformat_minor": 5
}
