{
 "cells": [
  {
   "cell_type": "code",
   "execution_count": 1,
   "id": "adolescent-element",
   "metadata": {},
   "outputs": [],
   "source": [
    "import os\n",
    "import tarfile\n",
    "import urllib\n",
    "import pandas as pd\n",
    "import numpy as np\n",
    "import sklearn\n",
    "import datetime"
   ]
  },
  {
   "cell_type": "markdown",
   "id": "automatic-dragon",
   "metadata": {},
   "source": [
    "<h1>Load smart meter train set to get label for training</h1>"
   ]
  },
  {
   "cell_type": "code",
   "execution_count": 2,
   "id": "magnetic-tissue",
   "metadata": {},
   "outputs": [],
   "source": [
    "file_path = os.path.dirname(os.path.abspath(\"\"))"
   ]
  },
  {
   "cell_type": "code",
   "execution_count": 3,
   "id": "finite-cathedral",
   "metadata": {},
   "outputs": [],
   "source": [
    "interim_dataset_folder = os.path.abspath(os.path.join(file_path, \"./data/interim\"))\n",
    "smart_meter_train_pickle_path = interim_dataset_folder + \"./train_pickle.pkl\"\n",
    "# Read pickle version of pre-processed smart meter dataset\n",
    "smart_meter_train = pd.read_pickle(smart_meter_train_pickle_path)"
   ]
  },
  {
   "cell_type": "code",
   "execution_count": 4,
   "id": "dried-bacon",
   "metadata": {},
   "outputs": [],
   "source": [
    "smart_meter_label = smart_meter_train[\"Consumption\"]"
   ]
  },
  {
   "cell_type": "markdown",
   "id": "meaningful-bankruptcy",
   "metadata": {},
   "source": [
    "<h1>Load preprocessed smart meter train set (array) for training</h1>"
   ]
  },
  {
   "cell_type": "code",
   "execution_count": 30,
   "id": "floating-ladder",
   "metadata": {},
   "outputs": [],
   "source": [
    "preprocessed_dataset_folder = os.path.abspath(os.path.join(file_path, \"./data/preprocessed\"))\n",
    "preprossed_smart_meter_train_path = preprocessed_dataset_folder + \"./preprocessed_smdb_train_npy.npy\"\n",
    "preprossed_smart_meter_train = np.load(preprossed_smart_meter_train_path)"
   ]
  },
  {
   "cell_type": "markdown",
   "id": "spatial-arena",
   "metadata": {},
   "source": [
    "<h1>Dimension reduction</h1>"
   ]
  },
  {
   "cell_type": "code",
   "execution_count": 31,
   "id": "after-championship",
   "metadata": {},
   "outputs": [],
   "source": [
    "from sklearn.decomposition import PCA"
   ]
  },
  {
   "cell_type": "code",
   "execution_count": 50,
   "id": "lovely-sunrise",
   "metadata": {},
   "outputs": [],
   "source": [
    "pca = PCA()\n",
    "reduced_train_set= pca.fit_transform(preprossed_smart_meter_train)\n",
    "\n",
    "# Look for optimal number of components\n",
    "cumsum = np.cumsum(pca.explained_variance_ratio_)\n",
    "d = np.argmax(cumsum >= 0.95)+1"
   ]
  },
  {
   "cell_type": "code",
   "execution_count": 51,
   "id": "satellite-blond",
   "metadata": {},
   "outputs": [],
   "source": [
    "# Run PCA again with optimal number of component, d\n",
    "pca_d = PCA(n_components=d)\n",
    "reduced_train_set_d = pca_d.fit_transform(preprossed_smart_meter_train)\n",
    "cumsum_d = np.cumsum(pca_d.explained_variance_ratio_)"
   ]
  },
  {
   "cell_type": "code",
   "execution_count": 52,
   "id": "industrial-weapon",
   "metadata": {},
   "outputs": [
    {
     "data": {
      "text/plain": [
       "array([0.2916921 , 0.4717075 , 0.57857102, 0.64884738, 0.70294913,\n",
       "       0.74665099, 0.78880877, 0.82968817, 0.85921732, 0.88639796,\n",
       "       0.91167676, 0.93442626, 0.95648903])"
      ]
     },
     "execution_count": 52,
     "metadata": {},
     "output_type": "execute_result"
    }
   ],
   "source": [
    "cumsum_d"
   ]
  },
  {
   "cell_type": "code",
   "execution_count": 53,
   "id": "after-tuition",
   "metadata": {},
   "outputs": [],
   "source": [
    "import seaborn as sns\n",
    "import matplotlib.pyplot as plt"
   ]
  },
  {
   "cell_type": "code",
   "execution_count": 54,
   "id": "balanced-showcase",
   "metadata": {
    "scrolled": true
   },
   "outputs": [
    {
     "data": {
      "text/plain": [
       "Text(0.5, 1.0, 'Explained variance vs Number of components')"
      ]
     },
     "execution_count": 54,
     "metadata": {},
     "output_type": "execute_result"
    },
    {
     "data": {
      "image/png": "[encoded data removed]",
      "text/plain": [
       "<Figure size 432x288 with 1 Axes>"
      ]
     },
     "metadata": {
      "needs_background": "light"
     },
     "output_type": "display_data"
    }
   ],
   "source": [
    "# Visualising the eigenvalues and finding the elbow of the graphic\n",
    "sns.lineplot(x = list(range(1,len(cumsum_d)+1)), y = cumsum_d)\n",
    "plt.xlabel(\"Number of components\")\n",
    "plt.xticks(list(range(1,len(cumsum_d)+1)))\n",
    "plt.ylabel(\"Cumulative explained variance\")\n",
    "plt.title(\"Explained variance vs Number of components\")"
   ]
  },
  {
   "cell_type": "markdown",
   "id": "reserved-spotlight",
   "metadata": {},
   "source": [
    "<h1>Model selection</h1>"
   ]
  },
  {
   "cell_type": "code",
   "execution_count": 55,
   "id": "planned-grammar",
   "metadata": {},
   "outputs": [],
   "source": [
    "from sklearn.ensemble import RandomForestRegressor\n",
    "from sklearn.metrics import mean_squared_error"
   ]
  },
  {
   "cell_type": "code",
   "execution_count": 56,
   "id": "urban-publisher",
   "metadata": {},
   "outputs": [],
   "source": [
    "forest_reg = RandomForestRegressor()"
   ]
  },
  {
   "cell_type": "code",
   "execution_count": 57,
   "id": "mathematical-lounge",
   "metadata": {
    "scrolled": true
   },
   "outputs": [
    {
     "data": {
      "text/plain": [
       "RandomForestRegressor()"
      ]
     },
     "execution_count": 57,
     "metadata": {},
     "output_type": "execute_result"
    }
   ],
   "source": [
    "forest_reg.fit(reduced_train_set_d,smart_meter_label)"
   ]
  },
  {
   "cell_type": "code",
   "execution_count": 58,
   "id": "engaged-granny",
   "metadata": {},
   "outputs": [],
   "source": [
    "smart_meter_predictions = forest_reg.predict(reduced_train_set_d)"
   ]
  },
  {
   "cell_type": "code",
   "execution_count": 59,
   "id": "weird-leonard",
   "metadata": {},
   "outputs": [
    {
     "data": {
      "text/plain": [
       "0.21028778562234787"
      ]
     },
     "execution_count": 59,
     "metadata": {},
     "output_type": "execute_result"
    }
   ],
   "source": [
    "forest_mse = mean_squared_error(smart_meter_label, smart_meter_predictions)\n",
    "forest_rmse = np.sqrt(forest_mse)\n",
    "forest_rmse"
   ]
  },
  {
   "cell_type": "code",
   "execution_count": 60,
   "id": "convinced-glossary",
   "metadata": {},
   "outputs": [],
   "source": [
    "# get importance\n",
    "importance = forest_reg.feature_importances_"
   ]
  },
  {
   "cell_type": "code",
   "execution_count": 61,
   "id": "efficient-fraud",
   "metadata": {
    "scrolled": true
   },
   "outputs": [
    {
     "name": "stdout",
     "output_type": "stream",
     "text": [
      "Feature: 0, Score: 0.07942\n",
      "Feature: 1, Score: 0.09075\n",
      "Feature: 2, Score: 0.07679\n",
      "Feature: 3, Score: 0.08456\n",
      "Feature: 4, Score: 0.08325\n",
      "Feature: 5, Score: 0.06799\n",
      "Feature: 6, Score: 0.07403\n",
      "Feature: 7, Score: 0.06775\n",
      "Feature: 8, Score: 0.07648\n",
      "Feature: 9, Score: 0.06746\n",
      "Feature: 10, Score: 0.07703\n",
      "Feature: 11, Score: 0.07681\n",
      "Feature: 12, Score: 0.07767\n"
     ]
    }
   ],
   "source": [
    "# summarize feature importance\n",
    "for i,v in enumerate(importance):\n",
    "    print('Feature: %0d, Score: %.5f' % (i,v))"
   ]
  },
  {
   "cell_type": "code",
   "execution_count": null,
   "id": "occupied-labor",
   "metadata": {},
   "outputs": [],
   "source": []
  },
  {
   "cell_type": "code",
   "execution_count": null,
   "id": "honey-cartridge",
   "metadata": {},
   "outputs": [],
   "source": []
  },
  {
   "cell_type": "code",
   "execution_count": null,
   "id": "grave-vehicle",
   "metadata": {},
   "outputs": [],
   "source": []
  },
  {
   "cell_type": "code",
   "execution_count": null,
   "id": "documented-pioneer",
   "metadata": {},
   "outputs": [],
   "source": []
  },
  {
   "cell_type": "code",
   "execution_count": null,
   "id": "ahead-restoration",
   "metadata": {},
   "outputs": [],
   "source": []
  }
 ],
 "metadata": {
  "kernelspec": {
   "display_name": "Python 3",
   "language": "python",
   "name": "python3"
  },
  "language_info": {
   "codemirror_mode": {
    "name": "ipython",
    "version": 3
   },
   "file_extension": ".py",
   "mimetype": "text/x-python",
   "name": "python",
   "nbconvert_exporter": "python",
   "pygments_lexer": "ipython3",
   "version": "3.7.10"
  }
 },
 "nbformat": 4,
 "nbformat_minor": 5
}
